{
  "nbformat": 4,
  "nbformat_minor": 0,
  "metadata": {
    "colab": {
      "provenance": [],
      "authorship_tag": "ABX9TyNFV4rqbAi40JIFiMONP4X7",
      "include_colab_link": true
    },
    "kernelspec": {
      "name": "python3",
      "display_name": "Python 3"
    },
    "language_info": {
      "name": "python"
    }
  },
  "cells": [
    {
      "cell_type": "markdown",
      "metadata": {
        "id": "view-in-github",
        "colab_type": "text"
      },
      "source": [
        "<a href=\"https://colab.research.google.com/github/Mansikharbb/APM/blob/main/FUELCONSUMPTION_DATASET_CLEANED.ipynb\" target=\"_parent\"><img src=\"https://colab.research.google.com/assets/colab-badge.svg\" alt=\"Open In Colab\"/></a>"
      ]
    },
    {
      "cell_type": "code",
      "execution_count": 2,
      "metadata": {
        "colab": {
          "base_uri": "https://localhost:8080/"
        },
        "id": "ZS6aRXg4mqAI",
        "outputId": "1a753232-9a29-404d-9242-33f867a7f470"
      },
      "outputs": [
        {
          "output_type": "stream",
          "name": "stdout",
          "text": [
            "Dataset Info:\n",
            "\n",
            "<class 'pandas.core.frame.DataFrame'>\n",
            "RangeIndex: 22556 entries, 0 to 22555\n",
            "Data columns (total 13 columns):\n",
            " #   Column            Non-Null Count  Dtype  \n",
            "---  ------            --------------  -----  \n",
            " 0   YEAR              22556 non-null  int64  \n",
            " 1   MAKE              22556 non-null  object \n",
            " 2   MODEL             22556 non-null  object \n",
            " 3   VEHICLE CLASS     22556 non-null  object \n",
            " 4   ENGINE SIZE       22556 non-null  float64\n",
            " 5   CYLINDERS         22556 non-null  int64  \n",
            " 6   TRANSMISSION      22556 non-null  object \n",
            " 7   FUEL              22556 non-null  object \n",
            " 8   FUEL CONSUMPTION  22556 non-null  float64\n",
            " 9   HWY (L/100 km)    22556 non-null  float64\n",
            " 10  COMB (L/100 km)   22556 non-null  float64\n",
            " 11  COMB (mpg)        22556 non-null  int64  \n",
            " 12  EMISSIONS         22556 non-null  int64  \n",
            "dtypes: float64(4), int64(4), object(5)\n",
            "memory usage: 2.2+ MB\n",
            "None\n",
            "\n",
            "First 5 rows:\n",
            "   YEAR   MAKE    MODEL VEHICLE CLASS  ENGINE SIZE  CYLINDERS TRANSMISSION  \\\n",
            "0  2000  ACURA    1.6EL       COMPACT          1.6          4           A4   \n",
            "1  2000  ACURA    1.6EL       COMPACT          1.6          4           M5   \n",
            "2  2000  ACURA    3.2TL      MID-SIZE          3.2          6          AS5   \n",
            "3  2000  ACURA    3.5RL      MID-SIZE          3.5          6           A4   \n",
            "4  2000  ACURA  INTEGRA    SUBCOMPACT          1.8          4           A4   \n",
            "\n",
            "  FUEL  FUEL CONSUMPTION  HWY (L/100 km)  COMB (L/100 km)  COMB (mpg)  \\\n",
            "0    X               9.2             6.7              8.1          35   \n",
            "1    X               8.5             6.5              7.6          37   \n",
            "2    Z              12.2             7.4             10.0          28   \n",
            "3    Z              13.4             9.2             11.5          25   \n",
            "4    X              10.0             7.0              8.6          33   \n",
            "\n",
            "   EMISSIONS  \n",
            "0        186  \n",
            "1        175  \n",
            "2        230  \n",
            "3        264  \n",
            "4        198  \n",
            "\n",
            "Missing Values:\n",
            "YEAR                0\n",
            "MAKE                0\n",
            "MODEL               0\n",
            "VEHICLE CLASS       0\n",
            "ENGINE SIZE         0\n",
            "CYLINDERS           0\n",
            "TRANSMISSION        0\n",
            "FUEL                0\n",
            "FUEL CONSUMPTION    0\n",
            "HWY (L/100 km)      0\n",
            "COMB (L/100 km)     0\n",
            "COMB (mpg)          0\n",
            "EMISSIONS           0\n",
            "dtype: int64\n",
            "\n",
            "Checking for duplicate rows: 1\n"
          ]
        },
        {
          "output_type": "stream",
          "name": "stderr",
          "text": [
            "<ipython-input-2-28b8da19a988>:17: FutureWarning: A value is trying to be set on a copy of a DataFrame or Series through chained assignment using an inplace method.\n",
            "The behavior will change in pandas 3.0. This inplace method will never work because the intermediate object on which we are setting values always behaves as a copy.\n",
            "\n",
            "For example, when doing 'df[col].method(value, inplace=True)', try using 'df.method({col: value}, inplace=True)' or df[col] = df[col].method(value) instead, to perform the operation inplace on the original object.\n",
            "\n",
            "\n",
            "  else: df[col].fillna(df[col].mean(), inplace=True)\n",
            "<ipython-input-2-28b8da19a988>:16: FutureWarning: A value is trying to be set on a copy of a DataFrame or Series through chained assignment using an inplace method.\n",
            "The behavior will change in pandas 3.0. This inplace method will never work because the intermediate object on which we are setting values always behaves as a copy.\n",
            "\n",
            "For example, when doing 'df[col].method(value, inplace=True)', try using 'df.method({col: value}, inplace=True)' or df[col] = df[col].method(value) instead, to perform the operation inplace on the original object.\n",
            "\n",
            "\n",
            "  df[col].fillna(df[col].mode()[0], inplace=True)\n"
          ]
        },
        {
          "output_type": "stream",
          "name": "stdout",
          "text": [
            "\n",
            "Data Cleaning & Preprocessing Completed. Cleaned dataset saved as 'cleaned_fuel_consumption.csv'.\n"
          ]
        }
      ],
      "source": [
        "import pandas as pd\n",
        "import numpy as np\n",
        "import seaborn as sns\n",
        "import matplotlib.pyplot as plt\n",
        "from sklearn.preprocessing import MinMaxScaler, StandardScaler, LabelEncoder\n",
        "\n",
        "df = pd.read_csv(\"Fuel_Consumption_2000-2022.csv\")\n",
        "print(\"Dataset Info:\\n\")\n",
        "print(df.info())\n",
        "print(\"\\nFirst 5 rows:\")\n",
        "print(df.head())\n",
        "print(\"\\nMissing Values:\")\n",
        "print(df.isnull().sum())\n",
        "for col in df.columns:\n",
        "    if df[col].dtype == \"object\":\n",
        "        df[col].fillna(df[col].mode()[0], inplace=True)\n",
        "    else: df[col].fillna(df[col].mean(), inplace=True)\n",
        "print(\"\\nChecking for duplicate rows:\", df.duplicated().sum())\n",
        "df.drop_duplicates(inplace=True)\n",
        "def remove_outliers(df, column):\n",
        "    Q1 = df[column].quantile(0.25)\n",
        "    Q3 = df[column].quantile(0.75)\n",
        "    IQR = Q3 - Q1\n",
        "    lower_bound = Q1 - 1.5 * IQR\n",
        "    upper_bound = Q3 + 1.5 * IQR\n",
        "    df = df[(df[column] >= lower_bound) & (df[column] <= upper_bound)]\n",
        "    return df\n",
        "numeric_columns = df.select_dtypes(include=[\"float64\", \"int64\"]).columns\n",
        "for col in numeric_columns:\n",
        "    df = remove_outliers(df, col)\n",
        "for col in df.columns:\n",
        "    if df[col].dtype == \"object\":\n",
        "        df[col] = df[col].astype(\"category\")\n",
        "label_encoders = {}\n",
        "for col in df.select_dtypes(include=[\"category\"]).columns:\n",
        "    le = LabelEncoder()\n",
        "    df[col] = le.fit_transform(df[col])\n",
        "    label_encoders[col] = le\n",
        "scaler = MinMaxScaler()\n",
        "df[numeric_columns] = scaler.fit_transform(df[numeric_columns])\n",
        "df.to_csv(\"cleaned_fuel_consumption.csv\", index=False)\n",
        "\n",
        "print(\"\\nData Cleaning & Preprocessing Completed. Cleaned dataset saved as 'cleaned_fuel_consumption.csv'.\")"
      ]
    },
    {
      "cell_type": "code",
      "source": [],
      "metadata": {
        "id": "tOsLcj8OsdC5"
      },
      "execution_count": null,
      "outputs": []
    }
  ]
}